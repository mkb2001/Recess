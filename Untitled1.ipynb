{
 "cells": [
  {
   "cell_type": "code",
   "execution_count": 1,
   "id": "30b693e1",
   "metadata": {},
   "outputs": [
    {
     "name": "stdout",
     "output_type": "stream",
     "text": [
      "Empty DataFrame\n",
      "Columns: []\n",
      "Index: []\n"
     ]
    }
   ],
   "source": [
    "import pandas as pd\n",
    "df = pd.DataFrame()\n",
    "print(df)"
   ]
  },
  {
   "cell_type": "code",
   "execution_count": 4,
   "id": "2118855d",
   "metadata": {},
   "outputs": [
    {
     "name": "stdout",
     "output_type": "stream",
     "text": [
      "    cars  year\n",
      "0  Tesla  2023\n",
      "1   Audi  2003\n",
      "2   Jeep  1982\n"
     ]
    }
   ],
   "source": [
    "my_dataset = {\n",
    "    \"cars\": ['Tesla', 'Audi', \"Jeep\"],\n",
    "    \"year\": [2023,2003,1982]\n",
    "}\n",
    "df1= pd.DataFrame(my_dataset)\n",
    "print(df1)"
   ]
  },
  {
   "cell_type": "code",
   "execution_count": 5,
   "id": "f00a580a",
   "metadata": {},
   "outputs": [],
   "source": [
    "# Create a Pandas series from a dictionary for days and dates"
   ]
  },
  {
   "cell_type": "code",
   "execution_count": 6,
   "id": "49e01092",
   "metadata": {},
   "outputs": [
    {
     "name": "stdout",
     "output_type": "stream",
     "text": [
      "Monday       2023-07-03\n",
      "Tuesday      2023-07-04\n",
      "Wednesday    2023-07-05\n",
      "Thursday     2023-07-06\n",
      "Friday       2023-07-07\n",
      "dtype: object\n"
     ]
    }
   ],
   "source": [
    "date_dict = {\n",
    "    'Monday': '2023-07-03',\n",
    "    'Tuesday': '2023-07-04',\n",
    "    'Wednesday': '2023-07-05',\n",
    "    'Thursday': '2023-07-06',\n",
    "    'Friday': '2023-07-07'\n",
    "}\n",
    "\n",
    "\n",
    "series = pd.Series(date_dict)\n",
    "print(series)"
   ]
  },
  {
   "cell_type": "code",
   "execution_count": null,
   "id": "63c34b16",
   "metadata": {},
   "outputs": [],
   "source": []
  }
 ],
 "metadata": {
  "kernelspec": {
   "display_name": "Python 3 (ipykernel)",
   "language": "python",
   "name": "python3"
  },
  "language_info": {
   "codemirror_mode": {
    "name": "ipython",
    "version": 3
   },
   "file_extension": ".py",
   "mimetype": "text/x-python",
   "name": "python",
   "nbconvert_exporter": "python",
   "pygments_lexer": "ipython3",
   "version": "3.9.13"
  }
 },
 "nbformat": 4,
 "nbformat_minor": 5
}

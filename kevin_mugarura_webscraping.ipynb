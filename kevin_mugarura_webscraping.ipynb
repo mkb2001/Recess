{
 "cells": [
  {
   "cell_type": "code",
   "execution_count": 5,
   "metadata": {},
   "outputs": [
    {
     "name": "stdout",
     "output_type": "stream",
     "text": [
      "<head>\n",
      "<title>xeno-canto :: Sharing wildlife sounds from around the world</title>\n",
      "<meta charset=\"utf-8\"/>\n",
      "<meta content=\"index,follow\" name=\"robots\"/>\n",
      "<meta content=\"bird songs, bird sounds, grasshopper sounds, wildlife sounds, birds, grasshoppers, bird sound recordings, bird song recordings, bird song archive, bird sound archive, grasshopper sounds, xeno-canto\" name=\"keywords\"/>\n",
      "<link href=\"/static/img/favicon.png\" rel=\"icon\" type=\"image/png\"/>\n",
      "<link href=\"/static/img/favicon-60.png\" rel=\"apple-touch-icon\" type=\"image/png\"/>\n",
      "<link href=\"/static/img/favicon-76.png\" rel=\"apple-touch-icon\" sizes=\"76x76\" type=\"image/png\"/>\n",
      "<link href=\"/static/img/favicon-120.png\" rel=\"apple-touch-icon\" sizes=\"120x120\" type=\"image/png\"/>\n",
      "<link href=\"/static/img/favicon-152.png\" rel=\"apple-touch-icon\" sizes=\"152x152\" type=\"image/png\"/>\n",
      "<link href=\"/static/js/jquery.fancybox.css?v3-0-1\" rel=\"stylesheet\" type=\"text/css\"/>\n",
      "<link href=\"/static/js/jquery.qtip.min.css?v3-0-1\" rel=\"stylesheet\" type=\"text/css\"/>\n",
      "<link href=\"/static/js/jplayer/xcplayer.css?v3-0-1\" rel=\"stylesheet\" type=\"text/css\"/>\n",
      "<link href=\"/static/css/xeno-canto.css?v3-0-1\" rel=\"stylesheet\" type=\"text/css\"/>\n",
      "<link href=\"//fonts.googleapis.com/css?family=Ubuntu:400,700|Ubuntu+Condensed\" rel=\"stylesheet\" type=\"text/css\"/>\n",
      "<!-- this needs to be in the header -->\n",
      "<!-- <script type='text/javascript' src='//ajax.googleapis.com/ajax/libs/jquery/1.6/jquery.min.js'></script> -->\n",
      "<script src=\"https://code.jquery.com/jquery-1.12.4.min.js\"></script>\n",
      "<script src=\"https://code.jquery.com/jquery-migrate-1.4.1.min.js \"></script>\n",
      "<!--[if lt IE 9]>\n",
      "            <script>\n",
      "                document.createElement('header');\n",
      "                document.createElement('nav');\n",
      "                document.createElement('section');\n",
      "                document.createElement('article');\n",
      "                document.createElement('aside');\n",
      "                document.createElement('footer');\n",
      "                document.createElement('hgroup');\n",
      "                document.createElement('figure');\n",
      "                document.createElement('figcaption');\n",
      "            </script>\n",
      "            <![endif]-->\n",
      "</head>\n"
     ]
    }
   ],
   "source": [
    "from bs4 import BeautifulSoup\n",
    "import requests\n",
    "\n",
    "url = 'https://xeno-canto.org'\n",
    "response = requests.get(url)\n",
    "\n",
    "soup = BeautifulSoup(response.text, 'html.parser')\n",
    "head = soup.find('head')\n",
    "print(head)"
   ]
  },
  {
   "cell_type": "code",
   "execution_count": 6,
   "metadata": {},
   "outputs": [
    {
     "name": "stdout",
     "output_type": "stream",
     "text": [
      "[]\n"
     ]
    }
   ],
   "source": [
    "bird_species = soup.find_all('div', class_='bird-species')\n",
    "print(bird_species)"
   ]
  }
 ],
 "metadata": {
  "kernelspec": {
   "display_name": "base",
   "language": "python",
   "name": "python3"
  },
  "language_info": {
   "codemirror_mode": {
    "name": "ipython",
    "version": 3
   },
   "file_extension": ".py",
   "mimetype": "text/x-python",
   "name": "python",
   "nbconvert_exporter": "python",
   "pygments_lexer": "ipython3",
   "version": "3.9.13"
  },
  "orig_nbformat": 4
 },
 "nbformat": 4,
 "nbformat_minor": 2
}
